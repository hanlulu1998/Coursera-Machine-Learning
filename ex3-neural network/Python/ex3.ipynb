{
 "cells": [
  {
   "cell_type": "markdown",
   "metadata": {
    "collapsed": true,
    "pycharm": {
     "name": "#%% md\n"
    }
   },
   "source": [
    "# Machine Learning Online Class - Exercise 3|Part 1: One-vs-all"
   ]
  },
  {
   "cell_type": "code",
   "execution_count": 8,
   "metadata": {
    "pycharm": {
     "name": "#%%\n"
    }
   },
   "outputs": [
    {
     "name": "stdout",
     "output_type": "stream",
     "text": [
      "The autoreload extension is already loaded. To reload it, use:\n",
      "  %reload_ext autoreload\n"
     ]
    }
   ],
   "source": [
    "# Initialization\n",
    "from ex3func import *\n",
    "import numpy as np\n",
    "import matplotlib.pyplot as plt\n",
    "import scipy.optimize as opt\n",
    "import scipy.io as scio\n",
    "%matplotlib inline\n",
    "plt.rcParams['figure.figsize'] = (12.0, 9.0)  # set default size of plots\n",
    "plt.rcParams['image.interpolation'] = 'nearest'\n",
    "plt.rcParams['image.cmap'] = 'gray'\n",
    "\n",
    "%load_ext autoreload\n",
    "%autoreload 2"
   ]
  },
  {
   "cell_type": "code",
   "execution_count": 9,
   "metadata": {
    "pycharm": {
     "name": "#%%\n"
    }
   },
   "outputs": [],
   "source": [
    "# Setup the parameters you will use for this part of the exercise\n",
    "input_layer_size  = 400  # 20x20 Input Images of Digits\n",
    "num_labels = 10          # 10 labels, from 1 to 10\n",
    "\n"
   ]
  },
  {
   "cell_type": "markdown",
   "metadata": {},
   "source": [
    "## Part 1: Loading and Visualizing Data\n",
    "We start the exercise by first loading and visualizing the dataset.\n",
    "You will be working with a dataset that contains handwritten digits."
   ]
  },
  {
   "cell_type": "code",
   "execution_count": 10,
   "metadata": {
    "pycharm": {
     "name": "#%%\n"
    }
   },
   "outputs": [
    {
     "name": "stdout",
     "output_type": "stream",
     "text": [
      "Loading and Visualizing Data ...\n",
      "\n"
     ]
    },
    {
     "data": {
      "text/plain": "<Figure size 864x648 with 100 Axes>",
      "image/png": "[encoded data removed]"
     },
     "metadata": {
      "needs_background": "light"
     },
     "output_type": "display_data"
    }
   ],
   "source": [
    "# Load Training Data\n",
    "print('Loading and Visualizing Data ...\\n')\n",
    "data = scio.loadmat('ex3data1.mat')\n",
    "X,y=data['X'],data['y'][:,0]\n",
    "\n",
    "displayData(X)"
   ]
  },
  {
   "cell_type": "markdown",
   "source": [
    "## Part 2a: Vectorize Logistic Regression\n",
    "In this part of the exercise, you will reuse your logistic regression\n",
    "code from the last exercise. You task here is to make sure that your\n",
    "regularized logistic regression implementation is vectorized. After\n",
    "that, you will implement one-vs-all classification for the handwritten\n",
    "digit dataset."
   ],
   "metadata": {
    "collapsed": false
   }
  },
  {
   "cell_type": "code",
   "execution_count": 11,
   "outputs": [
    {
     "name": "stdout",
     "output_type": "stream",
     "text": [
      "\n",
      "Testing lrCostFunction() with regularization\n",
      "\n",
      "Cost: 2.534819\n",
      "\n",
      "Expected cost: 2.534819\n",
      "\n",
      "Gradients:\n",
      "\n",
      "[ 0.14656137 -0.54855841  0.72472227  1.39800296]\n",
      "Expected gradients:\n",
      "\n",
      " 0.146561\n",
      " -0.548558\n",
      " 0.724722\n",
      " 1.398003\n",
      "\n"
     ]
    }
   ],
   "source": [
    "# Test case for lrCostFunction\n",
    "print('\\nTesting lrCostFunction() with regularization')\n",
    "theta_t = np.array([-2, -1, 1, 2])\n",
    "X_t = np.hstack((np.ones((5,1)),np.reshape(np.arange(1,16),(5,3),order='F')/10))\n",
    "y_t = np.array([1,0,1,0,1])\n",
    "lambda_t = 3\n",
    "J,grad = lrCostFunction(theta_t, X_t, y_t, lambda_t)\n",
    "\n",
    "print('\\nCost: %f\\n' % J)\n",
    "print('Expected cost: 2.534819\\n')\n",
    "print('Gradients:\\n')\n",
    "print(grad)\n",
    "print('Expected gradients:\\n')\n",
    "print(' 0.146561\\n -0.548558\\n 0.724722\\n 1.398003\\n')"
   ],
   "metadata": {
    "collapsed": false,
    "pycharm": {
     "name": "#%%\n"
    }
   }
  },
  {
   "cell_type": "markdown",
   "source": [
    "## Part 2b: One-vs-All Training"
   ],
   "metadata": {
    "collapsed": false,
    "pycharm": {
     "name": "#%% md\n"
    }
   }
  },
  {
   "cell_type": "code",
   "execution_count": 12,
   "outputs": [
    {
     "name": "stdout",
     "output_type": "stream",
     "text": [
      "\n",
      "Training One-vs-All Logistic Regression...\n",
      "\n"
     ]
    }
   ],
   "source": [
    "print('\\nTraining One-vs-All Logistic Regression...\\n')\n",
    "\n",
    "lam = 0.1\n",
    "all_theta=oneVsAll(X, y, num_labels, lam)\n"
   ],
   "metadata": {
    "collapsed": false,
    "pycharm": {
     "name": "#%%\n"
    }
   }
  },
  {
   "cell_type": "markdown",
   "source": [
    "## Part 3: Predict for One-Vs-All"
   ],
   "metadata": {
    "collapsed": false
   }
  },
  {
   "cell_type": "code",
   "execution_count": 13,
   "outputs": [
    {
     "name": "stdout",
     "output_type": "stream",
     "text": [
      "\n",
      "Training Set Accuracy: 96.460000\n",
      "\n"
     ]
    }
   ],
   "source": [
    "(m, n) = X.shape\n",
    "X = np.hstack((np.ones((m, 1)), X))\n",
    "pred=predictOneVsAll(all_theta,X)\n",
    "print('\\nTraining Set Accuracy: %f\\n' % (np.mean(pred==y)*100,) )\n",
    "\n"
   ],
   "metadata": {
    "collapsed": false,
    "pycharm": {
     "name": "#%%\n"
    }
   }
  }
 ],
 "metadata": {
  "kernelspec": {
   "display_name": "PyCharm (Python)",
   "language": "python",
   "name": "pycharm-188bb806"
  },
  "language_info": {
   "codemirror_mode": {
    "name": "ipython",
    "version": 3
   },
   "file_extension": ".py",
   "mimetype": "text/x-python",
   "name": "python",
   "nbconvert_exporter": "python",
   "pygments_lexer": "ipython3",
   "version": "3.7.7"
  },
  "nbTranslate": {
   "displayLangs": [
    "*"
   ],
   "hotkey": "alt-t",
   "langInMainMenu": true,
   "sourceLang": "en",
   "targetLang": "fr",
   "useGoogleTranslate": true
  },
  "varInspector": {
   "cols": {
    "lenName": 16,
    "lenType": 16,
    "lenVar": 40
   },
   "kernels_config": {
    "python": {
     "delete_cmd_postfix": "",
     "delete_cmd_prefix": "del ",
     "library": "var_list.py",
     "varRefreshCmd": "print(var_dic_list())"
    },
    "r": {
     "delete_cmd_postfix": ") ",
     "delete_cmd_prefix": "rm(",
     "library": "var_list.r",
     "varRefreshCmd": "cat(var_dic_list()) "
    }
   },
   "types_to_exclude": [
    "module",
    "function",
    "builtin_function_or_method",
    "instance",
    "_Feature"
   ],
   "window_display": false
  }
 },
 "nbformat": 4,
 "nbformat_minor": 1
}