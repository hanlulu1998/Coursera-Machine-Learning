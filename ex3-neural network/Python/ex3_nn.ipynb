{
 "cells": [
  {
   "cell_type": "markdown",
   "metadata": {
    "collapsed": true,
    "pycharm": {
     "name": "#%% md\n"
    }
   },
   "source": [
    "# Machine Learning Online Class - Exercise 3 | Part 2: Neural Networks\n"
   ]
  },
  {
   "cell_type": "code",
   "execution_count": 7,
   "outputs": [
    {
     "name": "stdout",
     "output_type": "stream",
     "text": [
      "The autoreload extension is already loaded. To reload it, use:\n",
      "  %reload_ext autoreload\n"
     ]
    }
   ],
   "source": [
    "# Initialization\n",
    "from ex3_nnfunc import *\n",
    "from ex3func import *\n",
    "import numpy as np\n",
    "import matplotlib.pyplot as plt\n",
    "import scipy.optimize as opt\n",
    "import scipy.io as scio\n",
    "%matplotlib inline\n",
    "plt.rcParams['figure.figsize'] = (12.0, 9.0)  # set default size of plots\n",
    "plt.rcParams['image.interpolation'] = 'nearest'\n",
    "plt.rcParams['image.cmap'] = 'gray'\n",
    "\n",
    "%load_ext autoreload\n",
    "%autoreload 2"
   ],
   "metadata": {
    "collapsed": false,
    "pycharm": {
     "name": "#%%\n"
    }
   }
  },
  {
   "cell_type": "code",
   "execution_count": 8,
   "outputs": [],
   "source": [
    "# Setup the parameters you will use for this exercise\n",
    "input_layer_size  = 400  # 20x20 Input Images of Digits\n",
    "hidden_layer_size = 25   # 25 hidden units\n",
    "num_labels = 10;         # 10 labels, from 1 to 10\n",
    "                          # (note that we have mapped \"0\" to label 10)"
   ],
   "metadata": {
    "collapsed": false,
    "pycharm": {
     "name": "#%%\n"
    }
   }
  },
  {
   "cell_type": "markdown",
   "source": [
    "## Part 1: Loading and Visualizing Data\n",
    "We start the exercise by first loading and visualizing the dataset.\n",
    "You will be working with a dataset that contains handwritten digits."
   ],
   "metadata": {
    "collapsed": false
   }
  },
  {
   "cell_type": "code",
   "execution_count": 9,
   "outputs": [
    {
     "name": "stdout",
     "output_type": "stream",
     "text": [
      "Loading and Visualizing Data ...\n",
      "\n"
     ]
    },
    {
     "data": {
      "text/plain": "<Figure size 864x648 with 100 Axes>",
      "image/png": "[encoded data removed]"
     },
     "metadata": {
      "needs_background": "light"
     },
     "output_type": "display_data"
    }
   ],
   "source": [
    "# Load Training Data\n",
    "print('Loading and Visualizing Data ...\\n')\n",
    "data = scio.loadmat('ex3data1.mat')\n",
    "X,y=data['X'],data['y'][:,0]\n",
    "\n",
    "displayData(X)"
   ],
   "metadata": {
    "collapsed": false,
    "pycharm": {
     "name": "#%%\n"
    }
   }
  },
  {
   "cell_type": "markdown",
   "source": [
    "## Part 2: Loading Pameters\n",
    "In this part of the exercise, we load some pre-initialized\n",
    "neural network parameters."
   ],
   "metadata": {
    "collapsed": false
   }
  },
  {
   "cell_type": "code",
   "source": [
    "print('\\nLoading Saved Neural Network Parameters ...\\n')\n",
    "# Load the weights into variables Theta1 and Theta2\n",
    "weights_data = scio.loadmat('ex3weights.mat')\n",
    "Theta1,Theta2=weights_data['Theta1'],weights_data['Theta2']"
   ],
   "metadata": {
    "collapsed": false,
    "pycharm": {
     "name": "#%%\n"
    }
   },
   "execution_count": 10,
   "outputs": [
    {
     "name": "stdout",
     "output_type": "stream",
     "text": [
      "\n",
      "Loading Saved Neural Network Parameters ...\n",
      "\n"
     ]
    }
   ]
  },
  {
   "cell_type": "markdown",
   "source": [
    "## Part 3: Implement Predict\n",
    "After training the neural network, we would like to use it to predict\n",
    "the labels. You will now implement the \"predict\" function to use the\n",
    "neural network to predict the labels of the training set. This lets\n",
    "you compute the training set accuracy."
   ],
   "metadata": {
    "collapsed": false
   }
  },
  {
   "cell_type": "code",
   "execution_count": 11,
   "outputs": [
    {
     "name": "stdout",
     "output_type": "stream",
     "text": [
      "\n",
      "Training Set Accuracy: 97.520000\n",
      "\n"
     ]
    }
   ],
   "source": [
    "pred = predict(Theta1, Theta2, X)\n",
    "print('\\nTraining Set Accuracy: %f\\n' % (np.mean(pred==y)*100,) )"
   ],
   "metadata": {
    "collapsed": false,
    "pycharm": {
     "name": "#%%\n"
    }
   }
  },
  {
   "cell_type": "code",
   "execution_count": 12,
   "outputs": [
    {
     "name": "stdout",
     "output_type": "stream",
     "text": [
      "\n",
      "Displaying Example Image\n",
      "\n",
      "\n",
      "Neural Network Prediction: 8 (digit 8)\n",
      "\n",
      "\n",
      "Displaying Example Image\n",
      "\n",
      "\n",
      "Neural Network Prediction: 5 (digit 5)\n",
      "\n",
      "\n",
      "Displaying Example Image\n",
      "\n",
      "\n",
      "Neural Network Prediction: 10 (digit 0)\n",
      "\n"
     ]
    },
    {
     "data": {
      "text/plain": "<Figure size 288x216 with 1 Axes>",
      "image/png": "[encoded data removed]"
     },
     "metadata": {
      "needs_background": "light"
     },
     "output_type": "display_data"
    },
    {
     "data": {
      "text/plain": "<Figure size 288x216 with 1 Axes>",
      "image/png": "[encoded data removed]"
     },
     "metadata": {
      "needs_background": "light"
     },
     "output_type": "display_data"
    },
    {
     "data": {
      "text/plain": "<Figure size 288x216 with 1 Axes>",
      "image/png": "[encoded data removed]"
     },
     "metadata": {
      "needs_background": "light"
     },
     "output_type": "display_data"
    }
   ],
   "source": [
    "#  To give you an idea of the network's output, you can also run\n",
    "#  through the examples one at the a time to see what it is predicting.\n",
    "m=X.shape[0]\n",
    "for i in range(m):\n",
    "    print('\\nDisplaying Example Image\\n')\n",
    "    plt.figure(figsize=(4,3))\n",
    "    idx = np.random.choice(a=np.size(X, 0), size=1, replace=False, p=None)\n",
    "    deal_val = np.mean(np.abs(X[idx]))\n",
    "    plt_arry = X[idx] / deal_val\n",
    "    plt.imshow(plt_arry.reshape((20,20),order='F').astype('uint8'), cmap='gray', vmax=1, vmin=-1)\n",
    "    plt.axis('off')\n",
    "    plt.show()\n",
    "    pred = predict(Theta1, Theta2, X[idx,:])\n",
    "    print('\\nNeural Network Prediction: %d (digit %d)\\n' % (pred, np.mod(pred, 10)))\n",
    "    s = input('Paused - press enter to continue, q to exit:')\n",
    "    if s == 'q':\n",
    "      break\n",
    "\n"
   ],
   "metadata": {
    "collapsed": false,
    "pycharm": {
     "name": "#%%\n"
    }
   }
  }
 ],
 "metadata": {
  "kernelspec": {
   "name": "pycharm-188bb806",
   "language": "python",
   "display_name": "PyCharm (Python)"
  },
  "language_info": {
   "codemirror_mode": {
    "name": "ipython",
    "version": 2
   },
   "file_extension": ".py",
   "mimetype": "text/x-python",
   "name": "python",
   "nbconvert_exporter": "python",
   "pygments_lexer": "ipython2",
   "version": "2.7.6"
  }
 },
 "nbformat": 4,
 "nbformat_minor": 0
}