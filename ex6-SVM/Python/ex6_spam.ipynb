{
 "cells": [
  {
   "cell_type": "markdown",
   "metadata": {
    "collapsed": true,
    "pycharm": {
     "name": "#%% md\n"
    }
   },
   "source": [
    "# Exercise 6 | Spam Classification with SVMs\n",
    "\n"
   ]
  },
  {
   "cell_type": "code",
   "execution_count": 27,
   "outputs": [
    {
     "name": "stdout",
     "output_type": "stream",
     "text": [
      "The autoreload extension is already loaded. To reload it, use:\n",
      "  %reload_ext autoreload\n"
     ]
    }
   ],
   "source": [
    "import matplotlib.pyplot as plt\n",
    "import scipy.io as scio\n",
    "from sklearn import svm\n",
    "# Initialization\n",
    "from ex6_spamfunc import *\n",
    "%matplotlib inline\n",
    "plt.rcParams['figure.figsize'] = (12.0, 9.0)  # set default size of plots\n",
    "plt.rcParams['image.interpolation'] = 'nearest'\n",
    "plt.rcParams['image.cmap'] = 'gray'\n",
    "\n",
    "%load_ext autoreload\n",
    "%autoreload 2"
   ],
   "metadata": {
    "collapsed": false,
    "pycharm": {
     "name": "#%%\n"
    }
   }
  },
  {
   "cell_type": "markdown",
   "source": [
    "## Part 1: Email Preprocessing\n",
    "To use an SVM to classify emails into Spam v.s. Non-Spam, you first need\n",
    "to convert each email into a vector of features. In this part, you will\n",
    "implement the preprocessing steps for each email. You should\n",
    "complete the code in processEmail.m to produce a word indices vector\n",
    "for a given email."
   ],
   "metadata": {
    "collapsed": false
   }
  },
  {
   "cell_type": "code",
   "execution_count": 28,
   "outputs": [
    {
     "name": "stdout",
     "output_type": "stream",
     "text": [
      "\n",
      "Preprocessing sample email (emailSample1.txt)\n",
      "\n",
      "> Anyone knows how much it costs to host a web portal ?\n",
      ">\n",
      "Well, it depends on how many visitors you're expecting.\n",
      "This can be anywhere from less than 10 bucks a month to a couple of $100. \n",
      "You should checkout http://www.rackspace.com/ or perhaps Amazon EC2 \n",
      "if youre running something big..\n",
      "\n",
      "To unsubscribe yourself from this mailing list, send an email to:\n",
      "groupname-unsubscribe@egroups.com\n",
      "\n",
      "\n",
      "\n",
      "==== Processed Email ====\n",
      "\n",
      "\n",
      "['anyon', 'know', 'how', 'much', 'it', 'cost', 'to', 'host', 'a', 'web', 'portal', 'well', 'it', 'depend', 'on', 'how', 'mani', 'visitor', 'you', 're', 'expect', 'thi', 'can', 'be', 'anywher', 'from', 'less', 'than', 'number', 'buck', 'a', 'month', 'to', 'a', 'coupl', 'of', 'dollarnumb', 'you', 'should', 'checkout', 'httpaddr', 'or', 'perhap', 'amazon', 'ecnumb', 'if', 'your', 'run', 'someth', 'big', 'to', 'unsubscrib', 'yourself', 'from', 'thi', 'mail', 'list', 'send', 'an', 'email', 'to', 'emailaddr']\n"
     ]
    }
   ],
   "source": [
    "print('\\nPreprocessing sample email (emailSample1.txt)\\n')\n",
    "with open('emailSample1.txt', 'r') as f:\n",
    "    file_contents= f.read()\n",
    "print(file_contents)\n",
    "word_indices=processEmail(file_contents)"
   ],
   "metadata": {
    "collapsed": false,
    "pycharm": {
     "name": "#%%\n"
    }
   }
  },
  {
   "cell_type": "markdown",
   "source": [
    "##  Part 2: Feature Extraction\n",
    "Now, you will convert each email into a vector of features in R^n.\n",
    "You should complete the code in emailFeatures.m to produce a feature\n",
    "vector for a given email."
   ],
   "metadata": {
    "collapsed": false
   }
  },
  {
   "cell_type": "code",
   "execution_count": 29,
   "outputs": [
    {
     "name": "stdout",
     "output_type": "stream",
     "text": [
      "\n",
      "Extracting features from sample email (emailSample1.txt)\n",
      "\n"
     ]
    }
   ],
   "source": [
    "print('\\nExtracting features from sample email (emailSample1.txt)\\n')\n",
    "features = emailFeatures(word_indices)"
   ],
   "metadata": {
    "collapsed": false,
    "pycharm": {
     "name": "#%%\n"
    }
   }
  },
  {
   "cell_type": "markdown",
   "source": [
    "## Part 3: Train Linear SVM for Spam Classification\n",
    "In this section, you will train a linear classifier to determine if an\n",
    "email is Spam or Not-Spam."
   ],
   "metadata": {
    "collapsed": false
   }
  },
  {
   "cell_type": "code",
   "execution_count": 30,
   "outputs": [
    {
     "name": "stdout",
     "output_type": "stream",
     "text": [
      "\n",
      "Training Linear SVM (Spam Classification)\n",
      "\n",
      "(this may take 1 to 2 minutes) ...\n",
      "\n",
      "Training Accuracy: 99.850000\n",
      "\n"
     ]
    }
   ],
   "source": [
    "data = scio.loadmat('spamTrain.mat')\n",
    "X,y=data['X'],data['y'][:,0]\n",
    "print('\\nTraining Linear SVM (Spam Classification)\\n')\n",
    "print('(this may take 1 to 2 minutes) ...\\n')\n",
    "c=0.1\n",
    "model=svm.LinearSVC(C=c,loss='hinge')\n",
    "model.fit(X,y)\n",
    "p=model.predict(X)\n",
    "print('Training Accuracy: %f\\n'% (np.mean(p == y)*100,))"
   ],
   "metadata": {
    "collapsed": false,
    "pycharm": {
     "name": "#%%\n"
    }
   }
  },
  {
   "cell_type": "markdown",
   "source": [
    "## Part 4: Test Spam Classification\n",
    "After training the classifier, we can evaluate it on a test set. We have\n",
    "included a test set in spamTest.mat"
   ],
   "metadata": {
    "collapsed": false
   }
  },
  {
   "cell_type": "code",
   "execution_count": 31,
   "outputs": [
    {
     "name": "stdout",
     "output_type": "stream",
     "text": [
      "Training Accuracy: 98.900000\n",
      "\n"
     ]
    }
   ],
   "source": [
    "data = scio.loadmat('spamTest.mat')\n",
    "Xtest,ytest=data['Xtest'],data['ytest'][:,0]\n",
    "p=model.predict(Xtest)\n",
    "print('Training Accuracy: %f\\n'% (np.mean(p == ytest)*100,))"
   ],
   "metadata": {
    "collapsed": false,
    "pycharm": {
     "name": "#%%\n"
    }
   }
  },
  {
   "cell_type": "markdown",
   "source": [
    "## Part 5: Try Your Own Emails\n",
    "Now that you've trained the spam classifier, you can use it on your own\n",
    "emails! In the starter code, we have included spamSample1.txt,\n",
    "spamSample2.txt, emailSample1.txt and emailSample2.txt as examples.\n",
    "The following code reads in one of these emails and then uses your\n",
    "learned SVM classifier to determine whether the email is Spam or\n",
    "Not Spam"
   ],
   "metadata": {
    "collapsed": false
   }
  },
  {
   "cell_type": "code",
   "source": [
    "filename = 'spamSample2.txt'\n",
    "with open(filename, 'r') as f:\n",
    "    file_contents= f.read()\n",
    "print(file_contents)\n",
    "word_indices  = processEmail(file_contents)\n",
    "x = emailFeatures(word_indices)\n",
    "p=model.predict(x.T)\n",
    "print('\\nProcessed %s\\n\\nSpam Classification: %d\\n' % (filename, p))\n",
    "print('(1 indicates spam, 0 indicates not spam)\\n\\n')"
   ],
   "metadata": {
    "collapsed": false,
    "pycharm": {
     "name": "#%%\n"
    }
   },
   "execution_count": 32,
   "outputs": [
    {
     "name": "stdout",
     "output_type": "stream",
     "text": [
      "Best Buy Viagra Generic Online\n",
      "\n",
      "Viagra 100mg x 60 Pills $125, Free Pills & Reorder Discount, Top Selling 100% Quality & Satisfaction guaranteed!\n",
      "\n",
      "We accept VISA, Master & E-Check Payments, 90000+ Satisfied Customers!\n",
      "http://medphysitcstech.ru\n",
      "\n",
      "\n",
      "\n",
      "\n",
      "==== Processed Email ====\n",
      "\n",
      "\n",
      "['best', 'buy', 'viagra', 'gener', 'onlin', 'viagra', 'numbermg', 'x', 'number', 'pill', 'dollarnumb', 'free', 'pill', 'reorder', 'discount', 'top', 'sell', 'number', 'qualiti', 'satisfact', 'guarante', 'we', 'accept', 'visa', 'master', 'e', 'check', 'payment', 'number', 'satisfi', 'custom', 'httpaddr']\n",
      "\n",
      "Processed spamSample2.txt\n",
      "\n",
      "Spam Classification: 1\n",
      "\n",
      "(1 indicates spam, 0 indicates not spam)\n",
      "\n",
      "\n"
     ]
    }
   ]
  }
 ],
 "metadata": {
  "kernelspec": {
   "name": "pycharm-188bb806",
   "language": "python",
   "display_name": "PyCharm (Python)"
  },
  "language_info": {
   "codemirror_mode": {
    "name": "ipython",
    "version": 2
   },
   "file_extension": ".py",
   "mimetype": "text/x-python",
   "name": "python",
   "nbconvert_exporter": "python",
   "pygments_lexer": "ipython2",
   "version": "2.7.6"
  }
 },
 "nbformat": 4,
 "nbformat_minor": 0
}