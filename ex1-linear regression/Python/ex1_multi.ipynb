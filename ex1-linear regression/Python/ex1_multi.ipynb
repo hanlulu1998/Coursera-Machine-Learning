{
 "cells": [
  {
   "cell_type": "markdown",
   "metadata": {
    "pycharm": {
     "name": "#%% md\n"
    }
   },
   "source": [
    "# Machine Learning Online Class\n",
    "# Exercise 1: Linear regression with multiple variables\n",
    "\n",
    "This file contains code that helps you get started on the\n",
    "linear regression exercise.\n",
    "\n",
    "For this part of the exercise, you will need to change some\n",
    "parts of the code below for various experiments (e.g., changing\n",
    "learning rates).\n",
    "\n"
   ]
  },
  {
   "cell_type": "markdown",
   "metadata": {
    "pycharm": {
     "name": "#%% md\n"
    }
   },
   "source": [
    "## Part 1: Feature Normalization\n"
   ]
  },
  {
   "cell_type": "code",
   "execution_count": 27,
   "metadata": {
    "collapsed": true,
    "jupyter": {
     "outputs_hidden": true
    },
    "pycharm": {
     "name": "#%%\n"
    }
   },
   "outputs": [
    {
     "name": "stdout",
     "output_type": "stream",
     "text": [
      "The autoreload extension is already loaded. To reload it, use:\n",
      "  %reload_ext autoreload\n"
     ]
    }
   ],
   "source": [
    "# Initialization\n",
    "from ex1_multifunc import *\n",
    "import numpy as np\n",
    "import matplotlib.pyplot as plt\n",
    "%matplotlib inline\n",
    "plt.rcParams['figure.figsize'] = (12.0, 9.0) # set default size of plots\n",
    "plt.rcParams['image.interpolation'] = 'nearest'\n",
    "plt.rcParams['image.cmap'] = 'gray'\n",
    "\n",
    "%load_ext autoreload\n",
    "%autoreload 2"
   ]
  },
  {
   "cell_type": "code",
   "execution_count": 28,
   "metadata": {
    "collapsed": false,
    "jupyter": {
     "outputs_hidden": false
    },
    "pycharm": {
     "name": "#%%\n"
    }
   },
   "outputs": [
    {
     "name": "stdout",
     "output_type": "stream",
     "text": [
      "Loading data ...\n",
      "\n",
      "First 10 examples from the dataset: \n",
      "\n",
      "Program paused. Press enter to continue.\n",
      "\n",
      "Normalizing Features ...\n",
      "\n"
     ]
    }
   ],
   "source": [
    "print('Loading data ...\\n')\n",
    "# Load Data\n",
    "data = np.loadtxt('ex1data2.txt',delimiter=',')\n",
    "X = data[:, 0:2]\n",
    "y = data[:, 2]\n",
    "m = len(y)\n",
    "\n",
    "# Print out some data points\n",
    "print('First 10 examples from the dataset: \\n')\n",
    "\n",
    "print('Program paused. Press enter to continue.\\n')\n",
    "\n",
    "# Scale features and set them to zero mean\n",
    "print('Normalizing Features ...\\n')\n",
    "\n",
    "X, mu, sigma = featureNormalize(X)\n",
    "\n",
    "# Add intercept term to X\n",
    "X = np.hstack((np.ones((m,1)),X))\n",
    "\n",
    "\n"
   ]
  },
  {
   "cell_type": "markdown",
   "metadata": {
    "pycharm": {
     "name": "#%% md\n"
    }
   },
   "source": [
    "## Part 2: Gradient Descent"
   ]
  },
  {
   "cell_type": "code",
   "execution_count": 29,
   "metadata": {
    "collapsed": false,
    "jupyter": {
     "outputs_hidden": false
    },
    "pycharm": {
     "name": "#%%\n"
    }
   },
   "outputs": [
    {
     "name": "stdout",
     "output_type": "stream",
     "text": [
      "\n",
      "Testing the cost function ...\n",
      "\n",
      "\n",
      "With theta = [-1 ; 2 ; 3]\n",
      "Cost computed = 65592040361.973618\n",
      "\n"
     ]
    }
   ],
   "source": [
    "# TODO YOUR CODE HERE\n",
    "# Instructions: We have provided you with the following starter\n",
    "#               code that runs gradient descent with a particular\n",
    "#               learning rate (alpha).\n",
    "\n",
    "#             Your task is to first make sure that your functions -\n",
    "#               computeCost and gradientDescent already work with\n",
    "#               this starter code and support multiple variables.\n",
    "\n",
    "#               After that, try running gradient descent with\n",
    "#               different values of alpha and see which one gives\n",
    "#               you the best result.\n",
    "#\n",
    "#               Finally, you should complete the code at the end\n",
    "#               to predict the price of a 1650 sq-ft, 3 br house.\n",
    "#\n",
    "# Hint: By using the 'hold on' command, you can plot multiple\n",
    "#       graphs on the same figure.\n",
    "\n",
    "# Hint: At prediction, make sure you do the same feature normalization.\n",
    "\n",
    "# testing of the cost function\n",
    "print('\\nTesting the cost function ...\\n')\n",
    "\n",
    "J = computeCostMulti(X, y, [-1, 2, 3])\n",
    "print('\\nWith theta = [-1 ; 2 ; 3]\\nCost computed = %f\\n'% J)"
   ]
  },
  {
   "cell_type": "code",
   "execution_count": 30,
   "metadata": {
    "collapsed": false,
    "jupyter": {
     "outputs_hidden": false
    },
    "pycharm": {
     "name": "#%%\n"
    }
   },
   "outputs": [
    {
     "name": "stdout",
     "output_type": "stream",
     "text": [
      "Running gradient descent ...\n",
      "\n"
     ]
    }
   ],
   "source": [
    "print('Running gradient descent ...\\n')\n",
    "\n",
    "# Choose some alpha value\n",
    "alpha = 0.01\n",
    "num_iters = 15000\n",
    "\n",
    "# Init Theta and Run Gradient Descent\n",
    "theta = np.zeros((3,))\n",
    "theta, J_history = gradientDescentMulti(X, y, theta, alpha, num_iters)\n",
    "\n",
    "\n"
   ]
  },
  {
   "cell_type": "code",
   "execution_count": 31,
   "outputs": [
    {
     "name": "stdout",
     "output_type": "stream",
     "text": [
      "Theta computed from gradient descent: \n",
      "\n",
      "[ 116616.96181457  153821.67246054 -102309.09936318]\n",
      "Predicted price of a 1650 sq-ft, 3 br house (using gradient descent):\n",
      " $293237.907490\n",
      "\n"
     ]
    },
    {
     "data": {
      "text/plain": "<Figure size 864x648 with 1 Axes>",
      "image/png": "[encoded data removed]"
     },
     "metadata": {
      "needs_background": "light"
     },
     "output_type": "display_data"
    }
   ],
   "source": [
    "# Plot the convergence graph\n",
    "plt.plot(np.arange(1,len(J_history)+1), J_history, '-b', linewidth=2)\n",
    "plt.xlabel('Number of iterations')\n",
    "plt.ylabel('Cost J')\n",
    "\n",
    "# Display gradient descent's result\n",
    "print('Theta computed from gradient descent: \\n')\n",
    "print(theta)\n",
    "# Estimate the price of a 1650 sq-ft, 3 br house\n",
    "# ====================== YOUR CODE HERE ======================\n",
    "# Recall that the first column of X is all-ones. Thus, it does\n",
    "# not need to be normalized.\n",
    "price=np.dot(np.hstack((np.array([1]),\n",
    "                    (np.array([1650,3]) - mu)/sigma)),theta)# You should change this\n",
    "\n",
    "# ============================================================\n",
    "print('Predicted price of a 1650 sq-ft, 3 br house (using gradient descent):\\n $%f\\n' % price)"
   ],
   "metadata": {
    "collapsed": false,
    "pycharm": {
     "name": "#%%\n"
    }
   }
  },
  {
   "cell_type": "markdown",
   "source": [
    "## Part 3: Normal Equations\n",
    "\n",
    "\n"
   ],
   "metadata": {
    "collapsed": false,
    "pycharm": {
     "name": "#%% md\n"
    }
   }
  },
  {
   "cell_type": "code",
   "execution_count": 32,
   "outputs": [
    {
     "name": "stdout",
     "output_type": "stream",
     "text": [
      "Solving with normal equations...\n",
      "\n",
      "Theta computed from the normal equations: \n",
      "\n",
      "[89597.90954361   139.21067402 -8738.01911255]\n"
     ]
    }
   ],
   "source": [
    "print('Solving with normal equations...\\n')\n",
    "\n",
    "# ====================== YOUR CODE HERE ======================\n",
    "# Instructions: The following code computes the closed form\n",
    "#               solution for linear regression using the normal\n",
    "#               equations. You should complete the code in\n",
    "#               normalEqn\n",
    "#\n",
    "#               After doing so, you should complete this code\n",
    "#               to predict the price of a 1650 sq-ft, 3 br house.\n",
    "X = data[:, 0:2]\n",
    "X = np.hstack((np.ones((m,1)),X))\n",
    "# Calculate the parameters from the normal equation\n",
    "theta = normalEqn(X, y)\n",
    "\n",
    "# Display normal equation's result\n",
    "print('Theta computed from the normal equations: \\n')\n",
    "print(theta)"
   ],
   "metadata": {
    "collapsed": false,
    "pycharm": {
     "name": "#%%\n"
    }
   }
  },
  {
   "cell_type": "code",
   "source": [
    "# Estimate the price of a 1650 sq-ft, 3 br house\n",
    "# ====================== YOUR CODE HERE ======================\n",
    "price=np.array([1,1650,3]).dot(theta)# You should change this\n",
    "# ============================================================\n",
    "\n",
    "print('Predicted price of a 1650 sq-ft, 3 br house (using normal equations):\\n $%f\\n' % price)\n",
    "\n"
   ],
   "metadata": {
    "collapsed": false,
    "pycharm": {
     "name": "#%%\n"
    }
   },
   "execution_count": 33,
   "outputs": [
    {
     "name": "stdout",
     "output_type": "stream",
     "text": [
      "Predicted price of a 1650 sq-ft, 3 br house (using normal equations):\n",
      " $293081.464335\n",
      "\n"
     ]
    }
   ]
  }
 ],
 "metadata": {
  "kernelspec": {
   "display_name": "PyCharm (Python)",
   "language": "python",
   "name": "pycharm-188bb806"
  },
  "language_info": {
   "codemirror_mode": {
    "name": "ipython",
    "version": 3
   },
   "file_extension": ".py",
   "mimetype": "text/x-python",
   "name": "python",
   "nbconvert_exporter": "python",
   "pygments_lexer": "ipython3",
   "version": "3.7.7"
  }
 },
 "nbformat": 4,
 "nbformat_minor": 4
}