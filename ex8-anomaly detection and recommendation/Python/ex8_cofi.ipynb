{
 "cells": [
  {
   "cell_type": "markdown",
   "metadata": {
    "collapsed": true,
    "pycharm": {
     "name": "#%% md\n"
    }
   },
   "source": [
    "# Exercise 8 | Anomaly Detection and Collaborative Filtering"
   ]
  },
  {
   "cell_type": "code",
   "execution_count": 1,
   "outputs": [],
   "source": [
    "# Initialization\n",
    "from ex8func import *\n",
    "from ex8_cofifunc import *\n",
    "import numpy as np\n",
    "import matplotlib.pyplot as plt\n",
    "import scipy.optimize as opt\n",
    "import scipy.io as scio\n",
    "%matplotlib inline\n",
    "plt.rcParams['figure.figsize'] = (12.0, 9.0)  # set default size of plots\n",
    "plt.rcParams['image.interpolation'] = 'nearest'\n",
    "plt.rcParams['image.cmap'] = 'gray'\n",
    "\n",
    "%load_ext autoreload\n",
    "%autoreload 2"
   ],
   "metadata": {
    "collapsed": false,
    "pycharm": {
     "name": "#%%\n"
    }
   }
  },
  {
   "cell_type": "markdown",
   "source": [
    "## Part 1: Loading movie ratings dataset\n",
    "You will start by loading the movie ratings dataset to understand the\n",
    "structure of the data."
   ],
   "metadata": {
    "collapsed": false
   }
  },
  {
   "cell_type": "code",
   "execution_count": 2,
   "outputs": [
    {
     "name": "stdout",
     "output_type": "stream",
     "text": [
      "Loading movie ratings dataset.\n",
      "\n",
      "\n",
      "Average rating for movie 1 (Toy Story): 3.8783185840707963 / 5\n",
      "\n",
      "\n"
     ]
    },
    {
     "data": {
      "text/plain": "Text(0.5, 0, 'Users')"
     },
     "execution_count": 2,
     "metadata": {},
     "output_type": "execute_result"
    },
    {
     "data": {
      "text/plain": "<Figure size 864x648 with 1 Axes>",
      "image/png": "[encoded data removed]"
     },
     "metadata": {
      "needs_background": "light"
     },
     "output_type": "display_data"
    }
   ],
   "source": [
    "print('Loading movie ratings dataset.\\n\\n')\n",
    "data = scio.loadmat('ex8_movies.mat')\n",
    "Y,R=data['Y'],data['R']\n",
    "print('Average rating for movie 1 (Toy Story): {} / 5\\n\\n'.format(np.mean(Y[0, np.argwhere(R[0, :]==1)])))\n",
    "plt.imshow(Y)\n",
    "plt.ylabel('Movies')\n",
    "plt.xlabel('Users')"
   ],
   "metadata": {
    "collapsed": false,
    "pycharm": {
     "name": "#%%\n"
    }
   }
  },
  {
   "cell_type": "markdown",
   "source": [
    "## Part 2: Collaborative Filtering Cost Function\n",
    "You will now implement the cost function for collaborative filtering.\n",
    "To help you debug your cost function, we have included set of weights\n",
    "that we trained on that. Specifically, you should complete the code in\n",
    "cofiCostFunc.m to return J."
   ],
   "metadata": {
    "collapsed": false
   }
  },
  {
   "cell_type": "code",
   "execution_count": 3,
   "outputs": [
    {
     "name": "stdout",
     "output_type": "stream",
     "text": [
      "Cost at loaded parameters: 22.224604 \n",
      "(this value should be about 22.22)\n",
      "\n"
     ]
    }
   ],
   "source": [
    "data = scio.loadmat('ex8_movieParams.mat')\n",
    "X,Theta,num_users,num_movies,num_features =data['X'],data['Theta'],data['num_users'],data['num_movies'],data['num_features']\n",
    "num_users = 4\n",
    "num_movies = 5\n",
    "num_features = 3\n",
    "X = X[0:num_movies, 0:num_features]\n",
    "Theta = Theta[0:num_users, 0:num_features]\n",
    "Y = Y[0:num_movies, 0:num_users]\n",
    "R = R[0:num_movies, 0:num_users]\n",
    "J,_= cofiCostFunc(np.append(X,Theta), Y, R, num_users, num_movies,num_features, 0)\n",
    "print('Cost at loaded parameters: %f \\n(this value should be about 22.22)\\n' % J)"
   ],
   "metadata": {
    "collapsed": false,
    "pycharm": {
     "name": "#%%\n"
    }
   }
  },
  {
   "cell_type": "markdown",
   "source": [
    "## Part 3: Collaborative Filtering Gradient\n",
    "Once your cost function matches up with ours, you should now implement\n",
    "the collaborative filtering gradient function. Specifically, you should\n",
    "complete the code in cofiCostFunc.m to return the grad argument."
   ],
   "metadata": {
    "collapsed": false
   }
  },
  {
   "cell_type": "code",
   "source": [
    "print('\\nChecking Gradients (without regularization) ... \\n')\n",
    "checkCostFunction()\n"
   ],
   "metadata": {
    "collapsed": false,
    "pycharm": {
     "name": "#%%\n"
    }
   },
   "execution_count": 4,
   "outputs": [
    {
     "name": "stdout",
     "output_type": "stream",
     "text": [
      "\n",
      "Checking Gradients (without regularization) ... \n",
      "\n",
      "The above two columns you get should be very similar.\n",
      " (Left-Your Numerical Gradient, Right-Analytical Gradient)\n",
      "\n",
      "\n",
      "If your backpropagation implementation is correct, then \n",
      "the relative difference will be small (less than 1e-9). \n",
      "\n",
      "Relative Difference: 9.520694516009954e-13 \n",
      "\n"
     ]
    }
   ]
  },
  {
   "cell_type": "markdown",
   "source": [
    "## Part 4: Collaborative Filtering Cost Regularization\n",
    "Now, you should implement regularization for the cost function for\n",
    "collaborative filtering. You can implement it by adding the cost of\n",
    "regularization to the original cost computation."
   ],
   "metadata": {
    "collapsed": false
   }
  },
  {
   "cell_type": "code",
   "execution_count": 5,
   "outputs": [
    {
     "name": "stdout",
     "output_type": "stream",
     "text": [
      "Cost at loaded parameters (lambda = 1.5): 31.344056 \n",
      "(this value should be about 31.34)\n",
      "\n"
     ]
    }
   ],
   "source": [
    "J,_= cofiCostFunc(np.append(X,Theta), Y, R, num_users, num_movies,num_features, 1.5)\n",
    "print('Cost at loaded parameters (lambda = 1.5): %f \\n(this value should be about 31.34)\\n' % J)\n"
   ],
   "metadata": {
    "collapsed": false,
    "pycharm": {
     "name": "#%%\n"
    }
   }
  },
  {
   "cell_type": "markdown",
   "source": [
    "## Part 5: Collaborative Filtering Gradient Regularization\n",
    "Once your cost matches up with ours, you should proceed to implement\n",
    "regularization for the gradient."
   ],
   "metadata": {
    "collapsed": false
   }
  },
  {
   "cell_type": "code",
   "execution_count": 6,
   "outputs": [
    {
     "name": "stdout",
     "output_type": "stream",
     "text": [
      "\n",
      "Checking Gradients (with regularization) ... \n",
      "\n",
      "The above two columns you get should be very similar.\n",
      " (Left-Your Numerical Gradient, Right-Analytical Gradient)\n",
      "\n",
      "\n",
      "If your backpropagation implementation is correct, then \n",
      "the relative difference will be small (less than 1e-9). \n",
      "\n",
      "Relative Difference: 3.486162895485841e-12 \n",
      "\n"
     ]
    }
   ],
   "source": [
    "print('\\nChecking Gradients (with regularization) ... \\n')\n",
    "checkCostFunction(1.5)\n"
   ],
   "metadata": {
    "collapsed": false,
    "pycharm": {
     "name": "#%%\n"
    }
   }
  },
  {
   "cell_type": "markdown",
   "source": [
    "##  Part 6: Entering ratings for a new user\n",
    "Before we will train the collaborative filtering model, we will first\n",
    "add ratings that correspond to a new user that we just observed. This\n",
    "part of the code will also allow you to put in your own ratings for the\n",
    "movies in our dataset!"
   ],
   "metadata": {
    "collapsed": false
   }
  },
  {
   "cell_type": "code",
   "execution_count": 7,
   "outputs": [
    {
     "name": "stdout",
     "output_type": "stream",
     "text": [
      "Muppet Treasure Island (1996)\n",
      "\n",
      "\n",
      "New user ratings:\n",
      "\n",
      "Rated 4 for Toy Story (1995)\n",
      "\n",
      "Rated 3 for Twelve Monkeys (1995)\n",
      "\n",
      "Rated 5 for Usual Suspects, The (1995)\n",
      "\n",
      "Rated 4 for Outbreak (1995)\n",
      "\n",
      "Rated 5 for Shawshank Redemption, The (1994)\n",
      "\n",
      "Rated 3 for While You Were Sleeping (1995)\n",
      "\n",
      "Rated 5 for Forrest Gump (1994)\n",
      "\n",
      "Rated 2 for Silence of the Lambs, The (1991)\n",
      "\n",
      "Rated 4 for Alien (1979)\n",
      "\n",
      "Rated 5 for Die Hard 2 (1990)\n",
      "\n",
      "Rated 5 for Sphere (1998)\n",
      "\n"
     ]
    }
   ],
   "source": [
    "movieList = loadMovieList()\n",
    "print(movieList[20])\n",
    "my_ratings=np.zeros((1682,1))\n",
    "my_ratings[0] = 4\n",
    "\n",
    "# Or suppose did not enjoy Silence of the Lambs (1991), you can set\n",
    "my_ratings[97] = 2\n",
    "\n",
    "# We have selected a few movies we liked / did not like and the ratings we\n",
    "# gave are as follows:\n",
    "my_ratings[6]= 3\n",
    "my_ratings[11]= 5\n",
    "my_ratings[53] = 4\n",
    "my_ratings[63]= 5\n",
    "my_ratings[65]= 3\n",
    "my_ratings[68] = 5\n",
    "my_ratings[182] = 4\n",
    "my_ratings[225] = 5\n",
    "my_ratings[354]= 5\n",
    "print('\\n\\nNew user ratings:\\n')\n",
    "for i in range(len(my_ratings)):\n",
    "    if my_ratings[i] > 0:\n",
    "        print('Rated %d for %s\\n'% (my_ratings[i], movieList[i]))"
   ],
   "metadata": {
    "collapsed": false,
    "pycharm": {
     "name": "#%%\n"
    }
   }
  },
  {
   "cell_type": "markdown",
   "source": [
    "##  Part 7: Learning Movie Ratings\n",
    "Now, you will train the collaborative filtering model on a movie rating\n",
    "dataset of 1682 movies and 943 users"
   ],
   "metadata": {
    "collapsed": false
   }
  },
  {
   "cell_type": "code",
   "source": [
    "print('\\nTraining collaborative filtering...\\n')\n",
    "data = scio.loadmat('ex8_movies.mat')\n",
    "Y,R=data['Y'],data['R']\n",
    "Y =np.hstack((my_ratings,Y))\n",
    "R = np.hstack(((my_ratings != 0).astype(int),R))\n",
    "Ynorm, Ymean = normalizeRatings(Y, R)\n",
    "# Useful Values\n",
    "num_users = Y.shape[1]\n",
    "num_movies = Y.shape[0]\n",
    "num_features = 10\n",
    "\n",
    "# Set Initial Parameters (Theta, X)\n",
    "X = np.random.randn(num_movies, num_features)\n",
    "Theta = np.random.randn(num_users, num_features)\n",
    "\n",
    "initial_parameters = np.append(X,Theta)\n",
    "lamb = 10\n",
    "result=opt.minimize(fun=cofiCostFunc,x0=initial_parameters,\n",
    "                    args=(Ynorm, R, num_users, num_movies, num_features, lamb),\n",
    "                    method='CG', jac=True,options={'maxiter':100})\n",
    "theta=result.x\n",
    "print(result.fun)\n",
    "X = np.reshape(theta[0:num_movies*num_features], (num_movies, num_features))\n",
    "Theta = np.reshape(theta[num_movies*num_features:],(num_users, num_features))\n",
    "\n",
    "print('Recommender system learning completed.\\n');"
   ],
   "metadata": {
    "collapsed": false,
    "pycharm": {
     "name": "#%%\n"
    }
   },
   "execution_count": 8,
   "outputs": [
    {
     "name": "stdout",
     "output_type": "stream",
     "text": [
      "\n",
      "Training collaborative filtering...\n",
      "\n",
      "38968.553119322074\n",
      "Recommender system learning completed.\n",
      "\n"
     ]
    }
   ]
  },
  {
   "cell_type": "markdown",
   "source": [
    "## Part 8: Recommendation for you\n",
    "After training the model, you can now make recommendations by computing\n",
    "the predictions matrix."
   ],
   "metadata": {
    "collapsed": false
   }
  },
  {
   "cell_type": "code",
   "source": [
    "p = X .dot(Theta.T)\n",
    "my_predictions = p[:,0] + Ymean[:,0]\n",
    "\n",
    "movieList = loadMovieList()\n",
    "\n",
    "ix = np.argsort(-my_predictions)\n",
    "print('\\nTop recommendations for you:\\n')\n",
    "for i in range(10):\n",
    "    j = ix[i]\n",
    "    print('Predicting rating %.1f for movie %s\\n'% (my_predictions[j],movieList[j]))\n",
    "\n",
    "print('\\n\\nOriginal ratings provided:\\n')\n",
    "for i in range(len(my_ratings)):\n",
    "    if my_ratings[i] > 0:\n",
    "        print('Rated %d for %s\\n'% (my_ratings[i], movieList[i]))"
   ],
   "metadata": {
    "collapsed": false,
    "pycharm": {
     "name": "#%%\n"
    }
   },
   "execution_count": 9,
   "outputs": [
    {
     "name": "stdout",
     "output_type": "stream",
     "text": [
      "\n",
      "Top recommendations for you:\n",
      "\n",
      "Predicting rating 5.0 for movie Entertaining Angels: The Dorothy Day Story (1996)\n",
      "\n",
      "Predicting rating 5.0 for movie Santa with Muscles (1996)\n",
      "\n",
      "Predicting rating 5.0 for movie Prefontaine (1997)\n",
      "\n",
      "Predicting rating 5.0 for movie They Made Me a Criminal (1939)\n",
      "\n",
      "Predicting rating 5.0 for movie Someone Else's America (1995)\n",
      "\n",
      "Predicting rating 5.0 for movie Great Day in Harlem, A (1994)\n",
      "\n",
      "Predicting rating 5.0 for movie Marlene Dietrich: Shadow and Light (1996) \n",
      "\n",
      "Predicting rating 5.0 for movie Star Kid (1997)\n",
      "\n",
      "Predicting rating 5.0 for movie Saint of Fort Washington, The (1993)\n",
      "\n",
      "Predicting rating 5.0 for movie Aiqing wansui (1994)\n",
      "\n",
      "\n",
      "\n",
      "Original ratings provided:\n",
      "\n",
      "Rated 4 for Toy Story (1995)\n",
      "\n",
      "Rated 3 for Twelve Monkeys (1995)\n",
      "\n",
      "Rated 5 for Usual Suspects, The (1995)\n",
      "\n",
      "Rated 4 for Outbreak (1995)\n",
      "\n",
      "Rated 5 for Shawshank Redemption, The (1994)\n",
      "\n",
      "Rated 3 for While You Were Sleeping (1995)\n",
      "\n",
      "Rated 5 for Forrest Gump (1994)\n",
      "\n",
      "Rated 2 for Silence of the Lambs, The (1991)\n",
      "\n",
      "Rated 4 for Alien (1979)\n",
      "\n",
      "Rated 5 for Die Hard 2 (1990)\n",
      "\n",
      "Rated 5 for Sphere (1998)\n",
      "\n"
     ]
    }
   ]
  }
 ],
 "metadata": {
  "kernelspec": {
   "name": "pycharm-188bb806",
   "language": "python",
   "display_name": "PyCharm (Python)"
  },
  "language_info": {
   "codemirror_mode": {
    "name": "ipython",
    "version": 2
   },
   "file_extension": ".py",
   "mimetype": "text/x-python",
   "name": "python",
   "nbconvert_exporter": "python",
   "pygments_lexer": "ipython2",
   "version": "2.7.6"
  }
 },
 "nbformat": 4,
 "nbformat_minor": 0
}