{
 "cells": [
  {
   "cell_type": "markdown",
   "metadata": {
    "collapsed": true,
    "pycharm": {
     "name": "#%% md\n"
    }
   },
   "source": [
    "# Machine Learning Online Class - Exercise 4 Neural Network Learning\n",
    "\n",
    "\n"
   ]
  },
  {
   "cell_type": "code",
   "execution_count": 43,
   "metadata": {
    "pycharm": {
     "name": "#%%\n"
    }
   },
   "outputs": [
    {
     "name": "stdout",
     "output_type": "stream",
     "text": [
      "The autoreload extension is already loaded. To reload it, use:\n",
      "  %reload_ext autoreload\n"
     ]
    }
   ],
   "source": [
    "# Initialization\n",
    "from ex4func import *\n",
    "import numpy as np\n",
    "import matplotlib.pyplot as plt\n",
    "import scipy.optimize as opt\n",
    "import scipy.io as scio\n",
    "%matplotlib inline\n",
    "plt.rcParams['figure.figsize'] = (12.0, 9.0)  # set default size of plots\n",
    "plt.rcParams['image.interpolation'] = 'nearest'\n",
    "plt.rcParams['image.cmap'] = 'gray'\n",
    "\n",
    "%load_ext autoreload\n",
    "%autoreload 2\n"
   ]
  },
  {
   "cell_type": "code",
   "execution_count": 44,
   "metadata": {
    "pycharm": {
     "name": "#%%\n"
    }
   },
   "outputs": [],
   "source": [
    "# Setup the parameters you will use for this exercise\n",
    "input_layer_size  = 400  # 20x20 Input Images of Digits\n",
    "hidden_layer_size = 25   # 25 hidden units\n",
    "num_labels = 10;         # 10 labels, from 1 to 10\n",
    "                          # (note that we have mapped \"0\" to label 10)\n"
   ]
  },
  {
   "cell_type": "markdown",
   "metadata": {
    "pycharm": {
     "name": "#%% md\n"
    }
   },
   "source": [
    "## Part 1: Loading and Visualizing Data\n",
    "We start the exercise by first loading and visualizing the dataset.\n",
    "You will be working with a dataset that contains handwritten digits.\n",
    "\n"
   ]
  },
  {
   "cell_type": "code",
   "execution_count": 45,
   "metadata": {
    "pycharm": {
     "name": "#%%\n"
    }
   },
   "outputs": [
    {
     "name": "stdout",
     "output_type": "stream",
     "text": [
      "Loading and Visualizing Data ...\n",
      "\n"
     ]
    },
    {
     "data": {
      "image/png": "[encoded data removed]",
      "text/plain": [
       "<Figure size 864x648 with 100 Axes>"
      ]
     },
     "metadata": {
      "needs_background": "light"
     },
     "output_type": "display_data"
    }
   ],
   "source": [
    "# Load Training Data\n",
    "print('Loading and Visualizing Data ...\\n')\n",
    "data = scio.loadmat('ex4data1.mat')\n",
    "X,y=data['X'],data['y'][:,0]\n",
    "\n",
    "displayData(X)\n"
   ]
  },
  {
   "cell_type": "markdown",
   "metadata": {},
   "source": [
    "## Part 2: Loading Pameters\n",
    "In this part of the exercise, we load some pre-initialized\n",
    "neural network parameters."
   ]
  },
  {
   "cell_type": "code",
   "execution_count": 46,
   "metadata": {
    "pycharm": {
     "name": "#%%\n"
    }
   },
   "outputs": [
    {
     "name": "stdout",
     "output_type": "stream",
     "text": [
      "\n",
      "Loading Saved Neural Network Parameters ...\n",
      "\n"
     ]
    }
   ],
   "source": [
    "print('\\nLoading Saved Neural Network Parameters ...\\n')\n",
    "# Load the weights into variables Theta1 and Theta2\n",
    "weights_data = scio.loadmat('ex4weights.mat')\n",
    "theta1,theta2=weights_data['Theta1'],weights_data['Theta2']\n",
    "nn_params = (theta1[:],theta2[:])\n",
    "\n"
   ]
  },
  {
   "cell_type": "markdown",
   "metadata": {},
   "source": [
    "## Part 3: Compute Cost (Feedforward)\n",
    "To the neural network, you should first start by implementing the\n",
    "feedforward part of the neural network that returns the cost only. You\n",
    "should complete the code in nnCostFunction.m to return cost. After\n",
    "implementing the feedforward to compute the cost, you can verify that\n",
    "your implementation is correct by verifying that you get the same cost\n",
    "as us for the fixed debugging parameters.\n",
    "\n",
    "We suggest implementing the feedforward cost *without* regularization\n",
    "first so that it will be easier for you to debug. Later, in part 4, you\n",
    "will get to implement the regularized cost.\n"
   ]
  },
  {
   "cell_type": "code",
   "execution_count": 47,
   "metadata": {
    "pycharm": {
     "name": "#%%\n"
    }
   },
   "outputs": [
    {
     "name": "stdout",
     "output_type": "stream",
     "text": [
      "\n",
      "Feedforward Using Neural Network ...\n",
      "\n",
      "[[-2.25623899e-02 -1.05624163e-08  2.19414684e-09 -6.92223359e-06\n",
      "   8.88278871e-05]\n",
      " [-9.83811294e-02  7.66168682e-09 -9.75873689e-09  1.04744424e-06\n",
      "  -6.14103954e-06]\n",
      " [ 1.16156052e-01 -8.77654466e-09  8.16037764e-09 -1.47744156e-06\n",
      "   2.16686670e-05]\n",
      " [-2.39693299e-01 -6.31835805e-09  2.64128630e-09 -1.17810193e-06\n",
      "  -7.12424998e-05]\n",
      " [-7.31625377e-01  8.14776724e-09  5.85879197e-09 -3.46408001e-06\n",
      "   2.57520790e-05]]\n",
      "[[-0.76100352 -1.21244498 -0.10187131 -2.36850085 -1.05778129]\n",
      " [-0.61785176  0.61559207 -1.26550639  1.85745418 -0.91853319]\n",
      " [-0.68934072 -1.94538151  2.01360618 -3.12316188 -0.2361763 ]\n",
      " [-0.67832479  0.46299226  0.58492321 -0.1650184   1.93264192]\n",
      " [-0.59664339 -2.04481799  2.05698407  1.95100909  0.17637699]]\n",
      "[[1.12661530e-04 1.74127856e-03 2.52696959e-03 ... 4.01468105e-04\n",
      "  6.48072305e-03 9.95734012e-01]\n",
      " [4.79026796e-04 2.41495958e-03 3.44755685e-03 ... 2.39107046e-03\n",
      "  1.97025086e-03 9.95696931e-01]\n",
      " [8.85702310e-05 3.24266731e-03 2.55419797e-02 ... 6.22892325e-02\n",
      "  5.49803551e-03 9.28008397e-01]\n",
      " ...\n",
      " [5.17641791e-02 3.81715020e-03 2.96297510e-02 ... 2.15667361e-03\n",
      "  6.49826950e-01 2.42384687e-05]\n",
      " [8.30631310e-04 6.22003774e-04 3.14518512e-04 ... 1.19366192e-02\n",
      "  9.71410499e-01 2.06173648e-04]\n",
      " [4.81465717e-05 4.58821829e-04 2.15146201e-05 ... 5.73434571e-03\n",
      "  6.96288990e-01 8.18576980e-02]]\n",
      "0.2876291651613188\n",
      "Cost at parameters (loaded from ex4weights): 0.383770 \n",
      " (this value should be about 0.287629) \n",
      "\n"
     ]
    }
   ],
   "source": [
    "print('\\nFeedforward Using Neural Network ...\\n')\n",
    "# Weight regularization parameter (we set this to 0 here).\n",
    "lamb = 1\n",
    "J = nnCostFunction(nn_params, input_layer_size, hidden_layer_size,num_labels, X, y, lamb)\n",
    "\n",
    "print('Cost at parameters (loaded from ex4weights): %f \\n (this value should be about 0.287629) \\n' % J)"
   ]
  },
  {
   "cell_type": "markdown",
   "metadata": {},
   "source": [
    "## Part 4: Implement Regularization\n",
    "Once your cost function implementation is correct, you should now\n",
    "continue to implement the regularization with the cost."
   ]
  },
  {
   "cell_type": "code",
   "execution_count": 48,
   "metadata": {
    "pycharm": {
     "name": "#%%\n"
    }
   },
   "outputs": [
    {
     "name": "stdout",
     "output_type": "stream",
     "text": [
      "\n",
      "Checking Cost Function (w/ Regularization) ... \n",
      "\n",
      "[[ 0.00000000e+00 -1.05624163e-08  2.19414684e-09 -6.92223359e-06\n",
      "   8.88278871e-05]\n",
      " [ 0.00000000e+00  7.66168682e-09 -9.75873689e-09  1.04744424e-06\n",
      "  -6.14103954e-06]\n",
      " [ 0.00000000e+00 -8.77654466e-09  8.16037764e-09 -1.47744156e-06\n",
      "   2.16686670e-05]\n",
      " [ 0.00000000e+00 -6.31835805e-09  2.64128630e-09 -1.17810193e-06\n",
      "  -7.12424998e-05]\n",
      " [ 0.00000000e+00  8.14776724e-09  5.85879197e-09 -3.46408001e-06\n",
      "   2.57520790e-05]]\n",
      "[[ 0.         -1.21244498 -0.10187131 -2.36850085 -1.05778129]\n",
      " [ 0.          0.61559207 -1.26550639  1.85745418 -0.91853319]\n",
      " [ 0.         -1.94538151  2.01360618 -3.12316188 -0.2361763 ]\n",
      " [ 0.          0.46299226  0.58492321 -0.1650184   1.93264192]\n",
      " [ 0.         -2.04481799  2.05698407  1.95100909  0.17637699]]\n",
      "[[1.52167744e-04 2.84297242e-03 5.28896750e-03 ... 6.46126993e-04\n",
      "  9.18087289e-03 9.97501806e-01]\n",
      " [6.04009892e-04 3.84764099e-03 7.21522064e-03 ... 3.39512783e-03\n",
      "  3.30474181e-03 9.97598928e-01]\n",
      " [1.52502495e-04 8.61511976e-03 5.65465406e-02 ... 1.14196379e-01\n",
      "  9.63706410e-03 9.58876359e-01]\n",
      " ...\n",
      " [7.07692313e-02 6.60767210e-03 6.59591536e-02 ... 7.00791321e-03\n",
      "  7.02278887e-01 3.97192899e-05]\n",
      " [1.24777246e-03 7.00971964e-04 7.93249145e-04 ... 2.38842706e-02\n",
      "  9.81588565e-01 4.08654939e-04]\n",
      " [9.22617544e-05 8.31681371e-04 4.12425109e-05 ... 1.22123343e-02\n",
      "  7.28946403e-01 1.82520032e-01]]\n",
      "0.324384905893615\n",
      "Cost at parameters (loaded from ex4weights): 0.324385\n",
      "(this value should be about 0.383770)\n",
      "\n"
     ]
    }
   ],
   "source": [
    "print('\\nChecking Cost Function (w/ Regularization) ... \\n')\n",
    "\n",
    "# Weight regularization parameter (we set this to 1 here).\n",
    "lamb = 0\n",
    "\n",
    "J = nnCostFunction(nn_params, input_layer_size, hidden_layer_size,num_labels, X, y, lamb)\n",
    "\n",
    "print('Cost at parameters (loaded from ex4weights): %f\\n(this value should be about 0.383770)\\n' % J)"
   ]
  }
 ],
 "metadata": {
  "kernelspec": {
   "display_name": "PyCharm (Python)",
   "language": "python",
   "name": "pycharm-188bb806"
  },
  "language_info": {
   "codemirror_mode": {
    "name": "ipython",
    "version": 3
   },
   "file_extension": ".py",
   "mimetype": "text/x-python",
   "name": "python",
   "nbconvert_exporter": "python",
   "pygments_lexer": "ipython3",
   "version": "3.7.7"
  },
  "nbTranslate": {
   "displayLangs": [
    "*"
   ],
   "hotkey": "alt-t",
   "langInMainMenu": true,
   "sourceLang": "en",
   "targetLang": "fr",
   "useGoogleTranslate": true
  },
  "varInspector": {
   "cols": {
    "lenName": 16,
    "lenType": 16,
    "lenVar": 40
   },
   "kernels_config": {
    "python": {
     "delete_cmd_postfix": "",
     "delete_cmd_prefix": "del ",
     "library": "var_list.py",
     "varRefreshCmd": "print(var_dic_list())"
    },
    "r": {
     "delete_cmd_postfix": ") ",
     "delete_cmd_prefix": "rm(",
     "library": "var_list.r",
     "varRefreshCmd": "cat(var_dic_list()) "
    }
   },
   "types_to_exclude": [
    "module",
    "function",
    "builtin_function_or_method",
    "instance",
    "_Feature"
   ],
   "window_display": false
  }
 },
 "nbformat": 4,
 "nbformat_minor": 1
}
