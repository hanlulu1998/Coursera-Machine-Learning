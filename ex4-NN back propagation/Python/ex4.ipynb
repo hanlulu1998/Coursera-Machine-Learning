{
 "cells": [
  {
   "cell_type": "markdown",
   "metadata": {
    "collapsed": true,
    "pycharm": {
     "name": "#%% md\n"
    }
   },
   "source": [
    "# Machine Learning Online Class - Exercise 4 Neural Network Learning\n",
    "\n",
    "\n"
   ]
  },
  {
   "cell_type": "code",
   "execution_count": 1,
   "metadata": {
    "pycharm": {
     "name": "#%%\n"
    }
   },
   "outputs": [],
   "source": [
    "# Initialization\n",
    "from ex4func import *\n",
    "import numpy as np\n",
    "import matplotlib.pyplot as plt\n",
    "import scipy.optimize as opt\n",
    "import scipy.io as scio\n",
    "%matplotlib inline\n",
    "plt.rcParams['figure.figsize'] = (12.0, 9.0)  # set default size of plots\n",
    "plt.rcParams['image.interpolation'] = 'nearest'\n",
    "plt.rcParams['image.cmap'] = 'gray'\n",
    "\n",
    "%load_ext autoreload\n",
    "%autoreload 2\n"
   ]
  },
  {
   "cell_type": "code",
   "execution_count": 2,
   "metadata": {
    "pycharm": {
     "name": "#%%\n"
    }
   },
   "outputs": [],
   "source": [
    "# Setup the parameters you will use for this exercise\n",
    "input_layer_size  = 400  # 20x20 Input Images of Digits\n",
    "hidden_layer_size = 25   # 25 hidden units\n",
    "num_labels = 10;         # 10 labels, from 1 to 10\n",
    "                          # (note that we have mapped \"0\" to label 10)\n"
   ]
  },
  {
   "cell_type": "markdown",
   "metadata": {
    "pycharm": {
     "name": "#%% md\n"
    }
   },
   "source": [
    "## Part 1: Loading and Visualizing Data\n",
    "We start the exercise by first loading and visualizing the dataset.\n",
    "You will be working with a dataset that contains handwritten digits.\n",
    "\n"
   ]
  },
  {
   "cell_type": "code",
   "execution_count": 3,
   "metadata": {
    "pycharm": {
     "name": "#%%\n"
    }
   },
   "outputs": [
    {
     "name": "stdout",
     "output_type": "stream",
     "text": [
      "Loading and Visualizing Data ...\n",
      "\n"
     ]
    },
    {
     "data": {
      "text/plain": "<Figure size 864x648 with 100 Axes>",
      "image/png": "[encoded data removed]"
     },
     "metadata": {
      "needs_background": "light"
     },
     "output_type": "display_data"
    }
   ],
   "source": [
    "# Load Training Data\n",
    "print('Loading and Visualizing Data ...\\n')\n",
    "data = scio.loadmat('ex4data1.mat')\n",
    "X,y=data['X'],data['y'][:,0]\n",
    "\n",
    "displayData(X)\n"
   ]
  },
  {
   "cell_type": "markdown",
   "metadata": {},
   "source": [
    "## Part 2: Loading Pameters\n",
    "In this part of the exercise, we load some pre-initialized\n",
    "neural network parameters."
   ]
  },
  {
   "cell_type": "code",
   "execution_count": 4,
   "metadata": {
    "pycharm": {
     "name": "#%%\n"
    }
   },
   "outputs": [
    {
     "name": "stdout",
     "output_type": "stream",
     "text": [
      "\n",
      "Loading Saved Neural Network Parameters ...\n",
      "\n"
     ]
    }
   ],
   "source": [
    "print('\\nLoading Saved Neural Network Parameters ...\\n')\n",
    "# Load the weights into variables Theta1 and Theta2\n",
    "weights_data = scio.loadmat('ex4weights.mat')\n",
    "theta1,theta2=weights_data['Theta1'],weights_data['Theta2']\n",
    "nn_params = np.append(theta1,theta2)\n",
    "\n"
   ]
  },
  {
   "cell_type": "markdown",
   "metadata": {},
   "source": [
    "## Part 3: Compute Cost (Feedforward)\n",
    "To the neural network, you should first start by implementing the\n",
    "feedforward part of the neural network that returns the cost only. You\n",
    "should complete the code in nnCostFunction.m to return cost. After\n",
    "implementing the feedforward to compute the cost, you can verify that\n",
    "your implementation is correct by verifying that you get the same cost\n",
    "as us for the fixed debugging parameters.\n",
    "\n",
    "We suggest implementing the feedforward cost *without* regularization\n",
    "first so that it will be easier for you to debug. Later, in part 4, you\n",
    "will get to implement the regularized cost.\n"
   ]
  },
  {
   "cell_type": "code",
   "execution_count": 5,
   "metadata": {
    "pycharm": {
     "name": "#%%\n"
    }
   },
   "outputs": [
    {
     "name": "stdout",
     "output_type": "stream",
     "text": [
      "\n",
      "Feedforward Using Neural Network ...\n",
      "\n",
      "Cost at parameters (loaded from ex4weights): 0.287629 \n",
      " (this value should be about 0.287629) \n",
      "\n"
     ]
    }
   ],
   "source": [
    "print('\\nFeedforward Using Neural Network ...\\n')\n",
    "# Weight regularization parameter (we set this to 0 here).\n",
    "lamb = 0\n",
    "J,_ = nnCostFunction(nn_params, input_layer_size, hidden_layer_size,num_labels, X, y, lamb)\n",
    "print('Cost at parameters (loaded from ex4weights): %f \\n (this value should be about 0.287629) \\n' % J)"
   ]
  },
  {
   "cell_type": "markdown",
   "metadata": {},
   "source": [
    "## Part 4: Implement Regularization\n",
    "Once your cost function implementation is correct, you should now\n",
    "continue to implement the regularization with the cost."
   ]
  },
  {
   "cell_type": "code",
   "execution_count": 6,
   "metadata": {
    "pycharm": {
     "name": "#%%\n"
    }
   },
   "outputs": [
    {
     "name": "stdout",
     "output_type": "stream",
     "text": [
      "\n",
      "Checking Cost Function (w/ Regularization) ... \n",
      "\n",
      "Cost at parameters (loaded from ex4weights): 0.383770\n",
      "(this value should be about 0.383770)\n",
      "\n"
     ]
    }
   ],
   "source": [
    "print('\\nChecking Cost Function (w/ Regularization) ... \\n')\n",
    "\n",
    "# Weight regularization parameter (we set this to 1 here).\n",
    "lamb = 1\n",
    "\n",
    "J,_ = nnCostFunction(nn_params, input_layer_size, hidden_layer_size,num_labels, X, y, lamb)\n",
    "print('Cost at parameters (loaded from ex4weights): %f\\n(this value should be about 0.383770)\\n' % J)"
   ]
  },
  {
   "cell_type": "markdown",
   "source": [
    "## Part 5: Sigmoid Gradient\n",
    "Before you start implementing the neural network, you will first\n",
    "implement the gradient for the sigmoid function. You should complete the\n",
    "code in the sigmoidGradient file."
   ],
   "metadata": {
    "collapsed": false
   }
  },
  {
   "cell_type": "code",
   "execution_count": 7,
   "outputs": [
    {
     "name": "stdout",
     "output_type": "stream",
     "text": [
      "\n",
      "Evaluating sigmoid gradient...\n",
      "\n",
      "Sigmoid gradient evaluated at [-1 -0.5 0 0.5 1]:\n",
      "  \n",
      "[0.19661193 0.23500371 0.25       0.23500371 0.19661193]\n",
      "\n",
      "\n",
      "\n"
     ]
    }
   ],
   "source": [
    "print('\\nEvaluating sigmoid gradient...\\n')\n",
    "\n",
    "g = sigmoidGradient(np.array([-1,-0.5,0,0.5,1]))\n",
    "print('Sigmoid gradient evaluated at [-1 -0.5 0 0.5 1]:\\n  ')\n",
    "print(g)\n",
    "print('\\n\\n')\n"
   ],
   "metadata": {
    "collapsed": false,
    "pycharm": {
     "name": "#%%\n"
    }
   }
  },
  {
   "cell_type": "markdown",
   "source": [
    "## Part 6: Initializing Pameters\n",
    "In this part of the exercise, you will be starting to implment a two\n",
    "layer neural network that classifies digits. You will start by\n",
    "implementing a function to initialize the weights of the neural network\n"
   ],
   "metadata": {
    "collapsed": false
   }
  },
  {
   "cell_type": "code",
   "execution_count": 8,
   "outputs": [
    {
     "name": "stdout",
     "output_type": "stream",
     "text": [
      "\n",
      "Initializing Neural Network Parameters ...\n",
      "\n"
     ]
    }
   ],
   "source": [
    "print('\\nInitializing Neural Network Parameters ...\\n')\n",
    "\n",
    "initial_Theta1 = randInitializeWeights(input_layer_size, hidden_layer_size)\n",
    "initial_Theta2 = randInitializeWeights(hidden_layer_size, num_labels)\n",
    "\n",
    "# Unroll parameters\n",
    "initial_nn_params = np.append(initial_Theta1,initial_Theta2)"
   ],
   "metadata": {
    "collapsed": false,
    "pycharm": {
     "name": "#%%\n"
    }
   }
  },
  {
   "cell_type": "markdown",
   "source": [
    "## Part 7: Implement Backpropagation\n",
    "Once your cost matches up with ours, you should proceed to implement the\n",
    "backpropagation algorithm for the neural network. You should add to the\n",
    "code you've written in nnCostFunction.m to return the partial\n",
    "derivatives of the parameters."
   ],
   "metadata": {
    "collapsed": false
   }
  },
  {
   "cell_type": "code",
   "source": [
    "print('\\nChecking Backpropagation... \\n')\n",
    "\n",
    "#  Check gradients by running checkNNGradients\n",
    "checkNNGradients()\n"
   ],
   "metadata": {
    "collapsed": false,
    "pycharm": {
     "name": "#%%\n"
    }
   },
   "execution_count": 9,
   "outputs": [
    {
     "name": "stdout",
     "output_type": "stream",
     "text": [
      "\n",
      "Checking Backpropagation... \n",
      "\n",
      "The above two columns you get should be very similar.\n",
      " (Left-Your Numerical Gradient, Right-Analytical Gradient)\n",
      "\n",
      "\n",
      "If your backpropagation implementation is correct, then \n",
      "the relative difference will be small (less than 1e-9). \n",
      "\n",
      "Relative Difference: 2.242585558337555e-11 \n",
      "\n"
     ]
    }
   ]
  },
  {
   "cell_type": "markdown",
   "source": [
    "## Part 8: Implement Regularization\n",
    "Once your backpropagation implementation is correct, you should now\n",
    "continue to implement the regularization with the cost and gradient."
   ],
   "metadata": {
    "collapsed": false
   }
  },
  {
   "cell_type": "code",
   "source": [
    "print('\\nChecking Backpropagation (w/ Regularization) ... \\n')\n",
    "\n",
    "# Check gradients by running checkNNGradients\n",
    "lamb = 3\n",
    "checkNNGradients(lamb)\n",
    "\n",
    "# Also output the costFunction debugging values\n",
    "debug_J,_  = nnCostFunction(nn_params, input_layer_size,hidden_layer_size, num_labels, X, y, lamb)\n",
    "\n",
    "print('\\n\\nCost at (fixed) debugging parameters (w/ lambda = {}): {} '\n",
    "         '\\n(for lambda = 3, this value should be about 0.576051)\\n\\n'.format(lamb,debug_J))\n",
    "\n"
   ],
   "metadata": {
    "collapsed": false,
    "pycharm": {
     "name": "#%%\n"
    }
   },
   "execution_count": 10,
   "outputs": [
    {
     "name": "stdout",
     "output_type": "stream",
     "text": [
      "\n",
      "Checking Backpropagation (w/ Regularization) ... \n",
      "\n",
      "The above two columns you get should be very similar.\n",
      " (Left-Your Numerical Gradient, Right-Analytical Gradient)\n",
      "\n",
      "\n",
      "If your backpropagation implementation is correct, then \n",
      "the relative difference will be small (less than 1e-9). \n",
      "\n",
      "Relative Difference: 2.1689070074933065e-11 \n",
      "\n",
      "\n",
      "\n",
      "Cost at (fixed) debugging parameters (w/ lambda = 3): 0.5760512469501329 \n",
      "(for lambda = 3, this value should be about 0.576051)\n",
      "\n",
      "\n"
     ]
    }
   ]
  },
  {
   "cell_type": "markdown",
   "source": [
    "## Part 8: Training NN\n",
    "You have now implemented all the code necessary to train a neural\n",
    "network. To train your neural network, we will now use \"fmincg\", which\n",
    "is a function which works similarly to \"fminunc\". Recall that these\n",
    "advanced optimizers are able to train our cost functions efficiently as\n",
    "long as we provide them with the gradient computations."
   ],
   "metadata": {
    "collapsed": false
   }
  },
  {
   "cell_type": "code",
   "execution_count": 11,
   "outputs": [
    {
     "name": "stdout",
     "output_type": "stream",
     "text": [
      "\n",
      "Training Neural Network... \n",
      "\n",
      "     fun: 0.34523407546341955\n",
      "     jac: array([ 2.83919242e-05,  1.23060747e-06, -5.59232251e-07, ...,\n",
      "        7.65189860e-05,  1.69734774e-04, -3.17505557e-05])\n",
      " message: 'Max. number of function evaluations reached'\n",
      "    nfev: 251\n",
      "     nit: 23\n",
      "  status: 3\n",
      " success: False\n",
      "       x: array([ 0.24904362,  0.00615304, -0.00279616, ...,  1.97476374,\n",
      "        1.34518226, -1.34156605])\n"
     ]
    }
   ],
   "source": [
    "print('\\nTraining Neural Network... \\n')\n",
    "\n",
    "lamb=1\n",
    "\n",
    "all_theta=training(X,y,input_layer_size,hidden_layer_size, num_labels,lamb)\n",
    "\n",
    "Theta1 = np.reshape(all_theta[0:hidden_layer_size * (input_layer_size + 1)],\n",
    "                        (hidden_layer_size, (input_layer_size + 1)))\n",
    "Theta2 = np.reshape(all_theta[hidden_layer_size * (input_layer_size + 1):],\n",
    "                        (num_labels, (hidden_layer_size + 1)))"
   ],
   "metadata": {
    "collapsed": false,
    "pycharm": {
     "name": "#%%\n"
    }
   }
  },
  {
   "cell_type": "markdown",
   "source": [
    "## Part 9: Visualize Weights\n",
    "You can now \"visualize\" what the neural network is learning by\n",
    "displaying the hidden units to see what features they are capturing in\n",
    "the data."
   ],
   "metadata": {
    "collapsed": false
   }
  },
  {
   "cell_type": "code",
   "source": [
    "print('\\nVisualizing Neural Network... \\n')\n",
    "\n",
    "displayData(Theta1[:, 1:])\n",
    "\n"
   ],
   "metadata": {
    "collapsed": false,
    "pycharm": {
     "name": "#%%\n"
    }
   },
   "execution_count": 12,
   "outputs": [
    {
     "name": "stdout",
     "output_type": "stream",
     "text": [
      "\n",
      "Visualizing Neural Network... \n",
      "\n"
     ]
    },
    {
     "data": {
      "text/plain": "<Figure size 864x648 with 100 Axes>",
      "image/png": "[encoded data removed]"
     },
     "metadata": {
      "needs_background": "light"
     },
     "output_type": "display_data"
    }
   ]
  },
  {
   "cell_type": "markdown",
   "source": [
    "## Part 10: Implement Predict\n",
    "After training the neural network, we would like to use it to predict\n",
    "the labels. You will now implement the \"predict\" function to use the\n",
    "neural network to predict the labels of the training set. This lets\n",
    "you compute the training set accuracy."
   ],
   "metadata": {
    "collapsed": false
   }
  },
  {
   "cell_type": "code",
   "execution_count": 13,
   "outputs": [
    {
     "name": "stdout",
     "output_type": "stream",
     "text": [
      "\n",
      "Training Set Accuracy: 99.180000\n",
      "\n"
     ]
    }
   ],
   "source": [
    "pred = predict(Theta1, Theta2, X)\n",
    "print('\\nTraining Set Accuracy: %f\\n' % (np.mean(pred==y)*100,) )"
   ],
   "metadata": {
    "collapsed": false,
    "pycharm": {
     "name": "#%%\n"
    }
   }
  }
 ],
 "metadata": {
  "kernelspec": {
   "display_name": "PyCharm (Python)",
   "language": "python",
   "name": "pycharm-188bb806"
  },
  "language_info": {
   "codemirror_mode": {
    "name": "ipython",
    "version": 3
   },
   "file_extension": ".py",
   "mimetype": "text/x-python",
   "name": "python",
   "nbconvert_exporter": "python",
   "pygments_lexer": "ipython3",
   "version": "3.7.7"
  },
  "nbTranslate": {
   "displayLangs": [
    "*"
   ],
   "hotkey": "alt-t",
   "langInMainMenu": true,
   "sourceLang": "en",
   "targetLang": "fr",
   "useGoogleTranslate": true
  },
  "varInspector": {
   "cols": {
    "lenName": 16,
    "lenType": 16,
    "lenVar": 40
   },
   "kernels_config": {
    "python": {
     "delete_cmd_postfix": "",
     "delete_cmd_prefix": "del ",
     "library": "var_list.py",
     "varRefreshCmd": "print(var_dic_list())"
    },
    "r": {
     "delete_cmd_postfix": ") ",
     "delete_cmd_prefix": "rm(",
     "library": "var_list.r",
     "varRefreshCmd": "cat(var_dic_list()) "
    }
   },
   "types_to_exclude": [
    "module",
    "function",
    "builtin_function_or_method",
    "instance",
    "_Feature"
   ],
   "window_display": false
  }
 },
 "nbformat": 4,
 "nbformat_minor": 1
}